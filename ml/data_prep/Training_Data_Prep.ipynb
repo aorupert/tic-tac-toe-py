{
  "nbformat": 4,
  "nbformat_minor": 0,
  "metadata": {
    "colab": {
      "name": "Tic Tac Toe - Training Data Prep",
      "provenance": []
    },
    "kernelspec": {
      "name": "python3",
      "display_name": "Python 3"
    },
    "language_info": {
      "name": "python"
    }
  },
  "cells": [
    {
      "cell_type": "markdown",
      "source": [
        "## Import datasets"
      ],
      "metadata": {
        "id": "0pG_Kg24wWz6"
      }
    },
    {
      "cell_type": "code",
      "execution_count": 10,
      "metadata": {
        "colab": {
          "base_uri": "https://localhost:8080/"
        },
        "id": "Hj6PchBDokUF",
        "outputId": "6fb782c8-439f-42c9-8a3f-ff4584fc1aa9"
      },
      "outputs": [
        {
          "output_type": "stream",
          "name": "stdout",
          "text": [
            "--------------------\n",
            "X RANDOM vs O RANDOM:\n",
            "1.0    0.466982\n",
            "0.0    0.388867\n",
            "0.5    0.144151\n",
            "Name: outcome, dtype: float64\n",
            "--------------------\n",
            "X RANDOM vs O EXPERT:\n",
            "1.0    0.376951\n",
            "0.0    0.376951\n",
            "0.5    0.246099\n",
            "Name: outcome, dtype: float64\n",
            "--------------------\n",
            "X EXPERT vs O RANDOM:\n",
            "1.0    0.559233\n",
            "0.0    0.390592\n",
            "0.5    0.050174\n",
            "Name: outcome, dtype: float64\n",
            "--------------------\n",
            "X EXPERT vs O EXPERT:\n",
            "0.5    1.0\n",
            "Name: outcome, dtype: float64\n"
          ]
        }
      ],
      "source": [
        "from pandas import read_csv\n",
        "\n",
        "print(\"--------------------\")\n",
        "print(\"X RANDOM vs O RANDOM:\")\n",
        "rr = read_csv(\"https://github.com/s2t2/tic-tac-toe-py/files/7920779/random_random_1000.csv\")\n",
        "rr[\"dataset_id\"] = \"random_vs_random\"\n",
        "print(rr[\"outcome\"].value_counts(normalize=True))\n",
        "\n",
        "print(\"--------------------\")\n",
        "print(\"X RANDOM vs O EXPERT:\")\n",
        "rm = read_csv(\"https://github.com/s2t2/tic-tac-toe-py/files/7920780/random_minimaxab_1000.csv\")\n",
        "rm[\"dataset_id\"] = \"random_vs_expert\"\n",
        "print(rm[\"outcome\"].value_counts(normalize=True))\n",
        "\n",
        "print(\"--------------------\")\n",
        "print(\"X EXPERT vs O RANDOM:\")\n",
        "mr = read_csv(\"https://github.com/s2t2/tic-tac-toe-py/files/7920850/minimaxab_random_1000.csv\")\n",
        "mr[\"dataset_id\"] = \"expert_vs_random\"\n",
        "print(mr[\"outcome\"].value_counts(normalize=True))\n",
        "\n",
        "print(\"--------------------\")\n",
        "print(\"X EXPERT vs O EXPERT:\")\n",
        "mm = read_csv(\"https://github.com/s2t2/tic-tac-toe-py/files/7920782/minimaxab_minimaxab_1000.csv\")\n",
        "print(mm[\"outcome\"].value_counts(normalize=True))\n",
        "mm[\"dataset_id\"] = \"expert_vs_expert\"\n"
      ]
    },
    {
      "cell_type": "markdown",
      "source": [
        "## Combine Datasets"
      ],
      "metadata": {
        "id": "FVHOoqIYwf39"
      }
    },
    {
      "cell_type": "code",
      "source": [
        "from pandas import concat\n",
        "\n",
        "df = concat([rr, rm, mr, mm])\n",
        "\n",
        "print(df)\n",
        "\n",
        "print(\"-------------\")\n",
        "print(\"OUTCOMES:\")\n",
        "print(df[\"outcome\"].value_counts(normalize=True))\n",
        "\n",
        "print(\"-------------\")\n",
        "print(\"DATASETS:\")\n",
        "print(df[\"dataset_id\"].value_counts(normalize=True))"
      ],
      "metadata": {
        "colab": {
          "base_uri": "https://localhost:8080/"
        },
        "id": "SZb0fWyQpshF",
        "outputId": "a5780899-dc83-4316-cc74-d518672bf98b"
      },
      "execution_count": 14,
      "outputs": [
        {
          "output_type": "stream",
          "name": "stdout",
          "text": [
            "      game_id  move_id a1 b1 c1 a2 b2 c2 a3 b3 c3  outcome        dataset_id\n",
            "0           1        1  X  -  -  -  -  -  -  -  -      0.0  random_vs_random\n",
            "1           1        2  X  -  -  -  -  -  O  -  -      1.0  random_vs_random\n",
            "2           1        3  X  -  -  X  -  -  O  -  -      0.0  random_vs_random\n",
            "3           1        4  X  -  -  X  O  -  O  -  -      1.0  random_vs_random\n",
            "4           1        5  X  -  -  X  O  -  O  X  -      0.0  random_vs_random\n",
            "...       ...      ... .. .. .. .. .. .. .. .. ..      ...               ...\n",
            "8995     1000        5  O  X  -  X  O  -  -  -  X      0.5  expert_vs_expert\n",
            "8996     1000        6  O  X  O  X  O  -  -  -  X      0.5  expert_vs_expert\n",
            "8997     1000        7  O  X  O  X  O  -  X  -  X      0.5  expert_vs_expert\n",
            "8998     1000        8  O  X  O  X  O  -  X  O  X      0.5  expert_vs_expert\n",
            "8999     1000        9  O  X  O  X  O  X  X  O  X      0.5  expert_vs_expert\n",
            "\n",
            "[29342 rows x 13 columns]\n",
            "-------------\n",
            "OUTCOMES:\n",
            "0.5    0.412549\n",
            "1.0    0.320360\n",
            "0.0    0.267092\n",
            "Name: outcome, dtype: float64\n",
            "-------------\n",
            "DATASETS:\n",
            "expert_vs_expert    0.306728\n",
            "random_vs_random    0.259594\n",
            "random_vs_expert    0.238055\n",
            "expert_vs_random    0.195624\n",
            "Name: dataset_id, dtype: float64\n"
          ]
        }
      ]
    },
    {
      "cell_type": "code",
      "source": [
        "df.to_csv(\"move_values.csv\")"
      ],
      "metadata": {
        "id": "S9oYL8hFqALA"
      },
      "execution_count": 15,
      "outputs": []
    }
  ]
}